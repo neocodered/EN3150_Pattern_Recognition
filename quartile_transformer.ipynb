{
 "cells": [
  {
   "cell_type": "code",
   "execution_count": 1,
   "metadata": {},
   "outputs": [
    {
     "name": "stdout",
     "output_type": "stream",
     "text": [
      "[[-5.19933758]\n",
      " [-1.15034938]\n",
      " [-0.67448975]\n",
      " [-0.31863936]\n",
      " [ 0.        ]\n",
      " [ 0.31863936]\n",
      " [ 0.67448975]\n",
      " [ 1.15034938]\n",
      " [ 5.19933758]]\n"
     ]
    },
    {
     "name": "stderr",
     "output_type": "stream",
     "text": [
      "c:\\Python312\\Lib\\site-packages\\sklearn\\preprocessing\\_data.py:2785: UserWarning: n_quantiles (1000) is greater than the total number of samples (9). n_quantiles is set to n_samples.\n",
      "  warnings.warn(\n"
     ]
    }
   ],
   "source": [
    "from sklearn.preprocessing import QuantileTransformer\n",
    "import numpy as np\n",
    "\n",
    "# Sample data\n",
    "data = np.array([[2], [5], [7], [9], [10], [12], [15], [20], [50]])\n",
    "\n",
    "# Instantiate the QuantileTransformer\n",
    "quantile_transformer = QuantileTransformer(output_distribution='normal')\n",
    "\n",
    "# Fit and transform the data\n",
    "transformed_data = quantile_transformer.fit_transform(data)\n",
    "\n",
    "print(transformed_data)\n"
   ]
  }
 ],
 "metadata": {
  "kernelspec": {
   "display_name": "Python 3",
   "language": "python",
   "name": "python3"
  },
  "language_info": {
   "codemirror_mode": {
    "name": "ipython",
    "version": 3
   },
   "file_extension": ".py",
   "mimetype": "text/x-python",
   "name": "python",
   "nbconvert_exporter": "python",
   "pygments_lexer": "ipython3",
   "version": "3.12.3"
  }
 },
 "nbformat": 4,
 "nbformat_minor": 2
}
